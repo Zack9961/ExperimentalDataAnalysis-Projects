{
 "cells": [
  {
   "cell_type": "code",
   "execution_count": 2,
   "metadata": {},
   "outputs": [],
   "source": [
    "#Progetto 2\n",
    "import numpy as np\n",
    "import matplotlib.pyplot as plt\n",
    "from scipy.optimize import minimize\n",
    "\n",
    "\n",
    "# Le formule sono:\n",
    "# y = t0 * x^t1 (non si può risolvere analiticamente perché non lineare nei parametri)\n",
    "\n",
    "# y = t0 + t1*x + t2*x^2\n",
    "\n",
    "# y = t0 + t1*x + t2*exp(x)\n",
    "\n",
    "# Dati del progetto\n",
    "X = np.array([0.5,1.0,1.5,2.0,2.5,3.0,3.5,4.0,4.5])\n",
    "Y = np.array([2.3,4.8,4.1,7.2,8.8,11.0,14.6,20.6,26.7])\n",
    "y_std = np.array([0.9,0.8,0.8,0.9,0.9,0.9,0.9,1.2,0.5])\n",
    "\n",
    "\n",
    "\n",
    "\n"
   ]
  }
 ],
 "metadata": {
  "kernelspec": {
   "display_name": "base",
   "language": "python",
   "name": "python3"
  },
  "language_info": {
   "codemirror_mode": {
    "name": "ipython",
    "version": 3
   },
   "file_extension": ".py",
   "mimetype": "text/x-python",
   "name": "python",
   "nbconvert_exporter": "python",
   "pygments_lexer": "ipython3",
   "version": "3.12.4"
  }
 },
 "nbformat": 4,
 "nbformat_minor": 2
}
